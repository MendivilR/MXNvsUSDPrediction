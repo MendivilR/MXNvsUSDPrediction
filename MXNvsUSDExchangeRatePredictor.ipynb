{
 "cells": [
  {
   "cell_type": "code",
   "execution_count": 1,
   "metadata": {},
   "outputs": [],
   "source": [
    "import numpy as np\n",
    "import matplotlib.pyplot as plt\n",
    "import pandas as pd\n",
    "\n",
    "import yfinance as yf\n",
    "\n",
    "from sklearn.preprocessing import MinMaxScaler\n",
    "from tensorflow.keras.models import Sequential\n",
    "from tensorflow.keras.layers import Dense,Dropout,GRU"
   ]
  },
  {
   "cell_type": "code",
   "execution_count": 2,
   "metadata": {},
   "outputs": [
    {
     "data": {
      "text/html": [
       "<div>\n",
       "<style scoped>\n",
       "    .dataframe tbody tr th:only-of-type {\n",
       "        vertical-align: middle;\n",
       "    }\n",
       "\n",
       "    .dataframe tbody tr th {\n",
       "        vertical-align: top;\n",
       "    }\n",
       "\n",
       "    .dataframe thead th {\n",
       "        text-align: right;\n",
       "    }\n",
       "</style>\n",
       "<table border=\"1\" class=\"dataframe\">\n",
       "  <thead>\n",
       "    <tr style=\"text-align: right;\">\n",
       "      <th></th>\n",
       "      <th>Open</th>\n",
       "      <th>High</th>\n",
       "      <th>Low</th>\n",
       "      <th>Close</th>\n",
       "      <th>Volume</th>\n",
       "      <th>Dividends</th>\n",
       "      <th>Stock Splits</th>\n",
       "    </tr>\n",
       "    <tr>\n",
       "      <th>Date</th>\n",
       "      <th></th>\n",
       "      <th></th>\n",
       "      <th></th>\n",
       "      <th></th>\n",
       "      <th></th>\n",
       "      <th></th>\n",
       "      <th></th>\n",
       "    </tr>\n",
       "  </thead>\n",
       "  <tbody>\n",
       "    <tr>\n",
       "      <th>2021-12-27 00:00:00+00:00</th>\n",
       "      <td>20.608999</td>\n",
       "      <td>20.740200</td>\n",
       "      <td>20.576200</td>\n",
       "      <td>20.607201</td>\n",
       "      <td>0</td>\n",
       "      <td>0.0</td>\n",
       "      <td>0.0</td>\n",
       "    </tr>\n",
       "    <tr>\n",
       "      <th>2021-12-28 00:00:00+00:00</th>\n",
       "      <td>20.693199</td>\n",
       "      <td>20.723301</td>\n",
       "      <td>20.550900</td>\n",
       "      <td>20.683599</td>\n",
       "      <td>0</td>\n",
       "      <td>0.0</td>\n",
       "      <td>0.0</td>\n",
       "    </tr>\n",
       "    <tr>\n",
       "      <th>2021-12-29 00:00:00+00:00</th>\n",
       "      <td>20.651899</td>\n",
       "      <td>20.669600</td>\n",
       "      <td>20.541201</td>\n",
       "      <td>20.662201</td>\n",
       "      <td>0</td>\n",
       "      <td>0.0</td>\n",
       "      <td>0.0</td>\n",
       "    </tr>\n",
       "    <tr>\n",
       "      <th>2021-12-30 00:00:00+00:00</th>\n",
       "      <td>20.557501</td>\n",
       "      <td>20.608101</td>\n",
       "      <td>20.476900</td>\n",
       "      <td>20.558001</td>\n",
       "      <td>0</td>\n",
       "      <td>0.0</td>\n",
       "      <td>0.0</td>\n",
       "    </tr>\n",
       "    <tr>\n",
       "      <th>2021-12-31 00:00:00+00:00</th>\n",
       "      <td>20.462200</td>\n",
       "      <td>20.495979</td>\n",
       "      <td>20.324760</td>\n",
       "      <td>20.459101</td>\n",
       "      <td>0</td>\n",
       "      <td>0.0</td>\n",
       "      <td>0.0</td>\n",
       "    </tr>\n",
       "  </tbody>\n",
       "</table>\n",
       "</div>"
      ],
      "text/plain": [
       "                                Open       High        Low      Close  Volume   \n",
       "Date                                                                            \n",
       "2021-12-27 00:00:00+00:00  20.608999  20.740200  20.576200  20.607201       0  \\\n",
       "2021-12-28 00:00:00+00:00  20.693199  20.723301  20.550900  20.683599       0   \n",
       "2021-12-29 00:00:00+00:00  20.651899  20.669600  20.541201  20.662201       0   \n",
       "2021-12-30 00:00:00+00:00  20.557501  20.608101  20.476900  20.558001       0   \n",
       "2021-12-31 00:00:00+00:00  20.462200  20.495979  20.324760  20.459101       0   \n",
       "\n",
       "                           Dividends  Stock Splits  \n",
       "Date                                                \n",
       "2021-12-27 00:00:00+00:00        0.0           0.0  \n",
       "2021-12-28 00:00:00+00:00        0.0           0.0  \n",
       "2021-12-29 00:00:00+00:00        0.0           0.0  \n",
       "2021-12-30 00:00:00+00:00        0.0           0.0  \n",
       "2021-12-31 00:00:00+00:00        0.0           0.0  "
      ]
     },
     "execution_count": 2,
     "metadata": {},
     "output_type": "execute_result"
    }
   ],
   "source": [
    "#Cargar los datos\n",
    "company = 'MXN=X'\n",
    "ticker = yf.Ticker(company)\n",
    "hist = ticker.history(start = '2012-1-1', end='2022-1-1')\n",
    "\n",
    "hist.tail()"
   ]
  },
  {
   "cell_type": "code",
   "execution_count": 3,
   "metadata": {},
   "outputs": [
    {
     "data": {
      "text/plain": [
       "(2549, 60, 1)"
      ]
     },
     "execution_count": 3,
     "metadata": {},
     "output_type": "execute_result"
    }
   ],
   "source": [
    "#Preparar los datos\n",
    "scaler = MinMaxScaler(feature_range=(0,1))\n",
    "scaled_data = scaler.fit_transform(hist['Close'].values.reshape(-1,1))\n",
    "\n",
    "prediction_days = 60\n",
    "\n",
    "x_train = []\n",
    "y_train = []\n",
    "\n",
    "for x in range(prediction_days,len(scaled_data)):\n",
    "  x_train.append(scaled_data[x-prediction_days:x,0])\n",
    "  y_train.append(scaled_data[x,0])\n",
    "\n",
    "x_train,y_train = np.array(x_train),np.array(y_train)\n",
    "x_train = np.reshape(x_train,(x_train.shape[0],x_train.shape[1],1))\n",
    "\n",
    "x_train.shape"
   ]
  },
  {
   "cell_type": "code",
   "execution_count": 4,
   "metadata": {},
   "outputs": [
    {
     "name": "stdout",
     "output_type": "stream",
     "text": [
      "Epoch 1/25\n",
      "80/80 [==============================] - 10s 61ms/step - loss: 0.0124\n",
      "Epoch 2/25\n",
      "80/80 [==============================] - 5s 62ms/step - loss: 0.0021\n",
      "Epoch 3/25\n",
      "80/80 [==============================] - 5s 61ms/step - loss: 0.0020\n",
      "Epoch 4/25\n",
      "80/80 [==============================] - 6s 72ms/step - loss: 0.0016\n",
      "Epoch 5/25\n",
      "80/80 [==============================] - 6s 73ms/step - loss: 0.0015\n",
      "Epoch 6/25\n",
      "80/80 [==============================] - 6s 69ms/step - loss: 0.0013\n",
      "Epoch 7/25\n",
      "80/80 [==============================] - 8s 98ms/step - loss: 0.0014\n",
      "Epoch 8/25\n",
      "80/80 [==============================] - 7s 90ms/step - loss: 0.0013\n",
      "Epoch 9/25\n",
      "80/80 [==============================] - 6s 70ms/step - loss: 0.0013\n",
      "Epoch 10/25\n",
      "80/80 [==============================] - 6s 70ms/step - loss: 0.0011\n",
      "Epoch 11/25\n",
      "80/80 [==============================] - 6s 72ms/step - loss: 0.0011\n",
      "Epoch 12/25\n",
      "80/80 [==============================] - 6s 74ms/step - loss: 0.0012\n",
      "Epoch 13/25\n",
      "80/80 [==============================] - 6s 73ms/step - loss: 0.0011\n",
      "Epoch 14/25\n",
      "80/80 [==============================] - 6s 73ms/step - loss: 0.0011\n",
      "Epoch 15/25\n",
      "80/80 [==============================] - 6s 73ms/step - loss: 0.0010\n",
      "Epoch 16/25\n",
      "80/80 [==============================] - 6s 73ms/step - loss: 8.9672e-04\n",
      "Epoch 17/25\n",
      "80/80 [==============================] - 6s 77ms/step - loss: 9.1284e-04\n",
      "Epoch 18/25\n",
      "80/80 [==============================] - 6s 74ms/step - loss: 9.4831e-04\n",
      "Epoch 19/25\n",
      "80/80 [==============================] - 6s 76ms/step - loss: 9.5276e-04\n",
      "Epoch 20/25\n",
      "80/80 [==============================] - 6s 74ms/step - loss: 8.8456e-04\n",
      "Epoch 21/25\n",
      "80/80 [==============================] - 6s 76ms/step - loss: 8.8948e-04\n",
      "Epoch 22/25\n",
      "80/80 [==============================] - 6s 73ms/step - loss: 8.8595e-04\n",
      "Epoch 23/25\n",
      "80/80 [==============================] - 6s 75ms/step - loss: 8.4806e-04\n",
      "Epoch 24/25\n",
      "80/80 [==============================] - 6s 74ms/step - loss: 8.9098e-04\n",
      "Epoch 25/25\n",
      "80/80 [==============================] - 6s 74ms/step - loss: 8.1860e-04\n"
     ]
    },
    {
     "data": {
      "text/plain": [
       "<keras.callbacks.History at 0x17003788890>"
      ]
     },
     "execution_count": 4,
     "metadata": {},
     "output_type": "execute_result"
    }
   ],
   "source": [
    "#Contruir el modelo\n",
    "model = Sequential()\n",
    "\n",
    "model.add(GRU(units=50,return_sequences = True, input_shape=(x_train.shape[1],1)))\n",
    "model.add(Dropout(0.2))\n",
    "model.add(GRU(units=50,return_sequences = True))\n",
    "model.add(Dropout(0.2))\n",
    "model.add(GRU(units=50))\n",
    "model.add(Dropout(0.1))\n",
    "model.add(Dense(units=1))\n",
    "\n",
    "model.compile(optimizer='adam', loss='mean_squared_error')\n",
    "\n",
    "model.fit(x_train,y_train,epochs=25,batch_size=32)"
   ]
  },
  {
   "cell_type": "code",
   "execution_count": 7,
   "metadata": {},
   "outputs": [],
   "source": [
    "#Cargar los datos del test\n",
    "from datetime import datetime, timedelta\n",
    "\n",
    "today = datetime.now()\n",
    "yesterday = (today - timedelta(days=1)).strftime(\"%Y-%m-%d\")\n",
    "\n",
    "if today.weekday() == 5:  # Saturday\n",
    "    yesterday = (today - timedelta(days=2)).strftime(\"%Y-%m-%d\")\n",
    "elif today.weekday() == 6:  # Sunday\n",
    "    yesterday = (today - timedelta(days=3)).strftime(\"%Y-%m-%d\")\n",
    "hist_test = ticker.history(start = '2022-1-1', end= yesterday )\n",
    "actual_prices = hist_test[\"Close\"].values\n",
    "\n",
    "total_dataset = pd.concat((hist['Close'],hist_test['Close']),axis=0)\n",
    "model_inputs = total_dataset[len(total_dataset)-len(hist_test)-prediction_days:].values\n",
    "model_inputs = scaler.transform(model_inputs.reshape(-1,1))"
   ]
  },
  {
   "cell_type": "code",
   "execution_count": 8,
   "metadata": {},
   "outputs": [
    {
     "data": {
      "text/html": [
       "<div>\n",
       "<style scoped>\n",
       "    .dataframe tbody tr th:only-of-type {\n",
       "        vertical-align: middle;\n",
       "    }\n",
       "\n",
       "    .dataframe tbody tr th {\n",
       "        vertical-align: top;\n",
       "    }\n",
       "\n",
       "    .dataframe thead th {\n",
       "        text-align: right;\n",
       "    }\n",
       "</style>\n",
       "<table border=\"1\" class=\"dataframe\">\n",
       "  <thead>\n",
       "    <tr style=\"text-align: right;\">\n",
       "      <th></th>\n",
       "      <th>Open</th>\n",
       "      <th>High</th>\n",
       "      <th>Low</th>\n",
       "      <th>Close</th>\n",
       "      <th>Volume</th>\n",
       "      <th>Dividends</th>\n",
       "      <th>Stock Splits</th>\n",
       "    </tr>\n",
       "    <tr>\n",
       "      <th>Date</th>\n",
       "      <th></th>\n",
       "      <th></th>\n",
       "      <th></th>\n",
       "      <th></th>\n",
       "      <th></th>\n",
       "      <th></th>\n",
       "      <th></th>\n",
       "    </tr>\n",
       "  </thead>\n",
       "  <tbody>\n",
       "    <tr>\n",
       "      <th>2023-07-13 00:00:00+01:00</th>\n",
       "      <td>16.896429</td>\n",
       "      <td>16.957581</td>\n",
       "      <td>16.848499</td>\n",
       "      <td>16.896429</td>\n",
       "      <td>0</td>\n",
       "      <td>0.0</td>\n",
       "      <td>0.0</td>\n",
       "    </tr>\n",
       "    <tr>\n",
       "      <th>2023-07-14 00:00:00+01:00</th>\n",
       "      <td>16.846630</td>\n",
       "      <td>16.915159</td>\n",
       "      <td>16.802099</td>\n",
       "      <td>16.846630</td>\n",
       "      <td>0</td>\n",
       "      <td>0.0</td>\n",
       "      <td>0.0</td>\n",
       "    </tr>\n",
       "    <tr>\n",
       "      <th>2023-07-17 00:00:00+01:00</th>\n",
       "      <td>16.738701</td>\n",
       "      <td>16.892900</td>\n",
       "      <td>16.693399</td>\n",
       "      <td>16.738701</td>\n",
       "      <td>0</td>\n",
       "      <td>0.0</td>\n",
       "      <td>0.0</td>\n",
       "    </tr>\n",
       "    <tr>\n",
       "      <th>2023-07-18 00:00:00+01:00</th>\n",
       "      <td>16.713699</td>\n",
       "      <td>16.759621</td>\n",
       "      <td>16.687099</td>\n",
       "      <td>16.713699</td>\n",
       "      <td>0</td>\n",
       "      <td>0.0</td>\n",
       "      <td>0.0</td>\n",
       "    </tr>\n",
       "    <tr>\n",
       "      <th>2023-07-19 00:00:00+01:00</th>\n",
       "      <td>16.752150</td>\n",
       "      <td>16.783381</td>\n",
       "      <td>16.711300</td>\n",
       "      <td>16.752150</td>\n",
       "      <td>0</td>\n",
       "      <td>0.0</td>\n",
       "      <td>0.0</td>\n",
       "    </tr>\n",
       "  </tbody>\n",
       "</table>\n",
       "</div>"
      ],
      "text/plain": [
       "                                Open       High        Low      Close  Volume   \n",
       "Date                                                                            \n",
       "2023-07-13 00:00:00+01:00  16.896429  16.957581  16.848499  16.896429       0  \\\n",
       "2023-07-14 00:00:00+01:00  16.846630  16.915159  16.802099  16.846630       0   \n",
       "2023-07-17 00:00:00+01:00  16.738701  16.892900  16.693399  16.738701       0   \n",
       "2023-07-18 00:00:00+01:00  16.713699  16.759621  16.687099  16.713699       0   \n",
       "2023-07-19 00:00:00+01:00  16.752150  16.783381  16.711300  16.752150       0   \n",
       "\n",
       "                           Dividends  Stock Splits  \n",
       "Date                                                \n",
       "2023-07-13 00:00:00+01:00        0.0           0.0  \n",
       "2023-07-14 00:00:00+01:00        0.0           0.0  \n",
       "2023-07-17 00:00:00+01:00        0.0           0.0  \n",
       "2023-07-18 00:00:00+01:00        0.0           0.0  \n",
       "2023-07-19 00:00:00+01:00        0.0           0.0  "
      ]
     },
     "execution_count": 8,
     "metadata": {},
     "output_type": "execute_result"
    }
   ],
   "source": [
    "tracker = yf.Ticker(company)\n",
    "recent_hist = tracker.history(start = '2023-1-1', end=yesterday)\n",
    "recent_hist.tail()"
   ]
  },
  {
   "cell_type": "code",
   "execution_count": 9,
   "metadata": {},
   "outputs": [
    {
     "name": "stdout",
     "output_type": "stream",
     "text": [
      "13/13 [==============================] - 2s 24ms/step\n"
     ]
    }
   ],
   "source": [
    "x_test = []\n",
    "\n",
    "for x in range(prediction_days,len(model_inputs)):\n",
    "  x_test.append(model_inputs[x-prediction_days:x,0])\n",
    "\n",
    "x_test = np.array(x_test)\n",
    "x_test = np.reshape(x_test,(x_test.shape[0],x_test.shape[1],1))\n",
    "\n",
    "predicted_prices = model.predict(x_test)\n",
    "predicted_prices = scaler.inverse_transform(predicted_prices)"
   ]
  },
  {
   "cell_type": "code",
   "execution_count": 10,
   "metadata": {},
   "outputs": [
    {
     "data": {
      "image/png": "[encoded data removed]",
      "text/plain": [
       "<Figure size 640x480 with 1 Axes>"
      ]
     },
     "metadata": {},
     "output_type": "display_data"
    }
   ],
   "source": [
    "plt.plot(actual_prices,color=\"black\",label=f\"{company} real prices\")\n",
    "plt.plot(predicted_prices,color=\"blue\",label=f\"{company} predicted prices\")\n",
    "plt.legend()\n",
    "plt.show()"
   ]
  },
  {
   "cell_type": "code",
   "execution_count": 11,
   "metadata": {},
   "outputs": [
    {
     "name": "stdout",
     "output_type": "stream",
     "text": [
      "-10.745563494577448 %\n"
     ]
    }
   ],
   "source": [
    "rentability = 1\n",
    "for i in range(1,len(actual_prices)):\n",
    "  if predicted_prices[i] > actual_prices[i-1]:\n",
    "    rentability*= actual_prices[i]/actual_prices[i-1]\n",
    "\n",
    "print((rentability-1)*100,\"%\")"
   ]
  },
  {
   "cell_type": "code",
   "execution_count": 12,
   "metadata": {},
   "outputs": [
    {
     "name": "stdout",
     "output_type": "stream",
     "text": [
      "Predicted Price for the Next Day: 16.804798\n"
     ]
    }
   ],
   "source": [
    "# Print the predicted price for the next day\n",
    "last_predicted_price = predicted_prices[-1][0]\n",
    "print(\"Predicted Price for the Next Day:\", last_predicted_price)"
   ]
  },
  {
   "cell_type": "code",
   "execution_count": 13,
   "metadata": {},
   "outputs": [
    {
     "name": "stdout",
     "output_type": "stream",
     "text": [
      "1/1 [==============================] - 0s 38ms/step\n",
      "1/1 [==============================] - 0s 42ms/step\n",
      "1/1 [==============================] - 0s 42ms/step\n",
      "1/1 [==============================] - 0s 36ms/step\n",
      "1/1 [==============================] - 0s 39ms/step\n",
      "1/1 [==============================] - 0s 35ms/step\n",
      "1/1 [==============================] - 0s 35ms/step\n",
      "Day 1 : 16.804798\n",
      "Day 2 : 16.789438\n",
      "Day 3 : 16.786077\n",
      "Day 4 : 16.783865\n",
      "Day 5 : 16.781498\n",
      "Day 6 : 16.779156\n",
      "Day 7 : 16.776957\n"
     ]
    }
   ],
   "source": [
    "# Make Predictions for the Next 7 Days\n",
    "predicted_prices = []\n",
    "current_input = x_test[-1]\n",
    "\n",
    "for _ in range(7):\n",
    "    current_input = np.reshape(current_input, (1, prediction_days, 1))\n",
    "    next_price = model.predict(current_input)\n",
    "    predicted_prices.append(next_price)\n",
    "    current_input = np.append(current_input[:, 1:, :], np.reshape(next_price, (1, 1, 1)), axis=1)\n",
    "\n",
    "predicted_prices = np.array(predicted_prices)\n",
    "predicted_prices = scaler.inverse_transform(predicted_prices.reshape(-1, 1))\n",
    "\n",
    "# Print the predicted prices for the next 7 days\n",
    "for i, price in enumerate(predicted_prices):\n",
    "    print(\"Day\", i+1, \":\", price[0])"
   ]
  },
  {
   "cell_type": "code",
   "execution_count": 14,
   "metadata": {},
   "outputs": [
    {
     "data": {
      "image/png": "[encoded data removed]",
      "text/plain": [
       "<Figure size 640x480 with 1 Axes>"
      ]
     },
     "metadata": {},
     "output_type": "display_data"
    }
   ],
   "source": [
    "\n",
    "plt.plot(predicted_prices,color=\"blue\",label=f\"{company} predicted prices\")\n",
    "plt.legend()\n",
    "plt.show()"
   ]
  }
 ],
 "metadata": {
  "kernelspec": {
   "display_name": "Python 3",
   "language": "python",
   "name": "python3"
  },
  "language_info": {
   "codemirror_mode": {
    "name": "ipython",
    "version": 3
   },
   "file_extension": ".py",
   "mimetype": "text/x-python",
   "name": "python",
   "nbconvert_exporter": "python",
   "pygments_lexer": "ipython3",
   "version": "3.11.4"
  },
  "orig_nbformat": 4
 },
 "nbformat": 4,
 "nbformat_minor": 2
}
